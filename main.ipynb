{
  "cells": [
    {
      "cell_type": "code",
      "execution_count": null,
      "metadata": {
        "id": "J_Rwuv9CtDz5"
      },
      "outputs": [],
      "source": [
        "import tkinter as tk\n",
        "from tkinter import ttk\n",
        "import requests"
      ]
    },
    {
      "cell_type": "markdown",
      "metadata": {
        "id": "IXX9ZjaEtDz7"
      },
      "source": [
        "This function retrieves the exchange rates from an API, gets the currency codes selected by the user,"
      ]
    },
    {
      "cell_type": "code",
      "execution_count": null,
      "metadata": {
        "id": "ZCz8lVw7tDz9"
      },
      "outputs": [],
      "source": [
        "def convert():\n",
        "    url = \"https://openexchangerates.org/api/latest.json?app_id=13709d4010094f4d875812d3c5954778\"\n",
        "    response = requests.get(url)\n",
        "    c1 = combobox1.get()\n",
        "    c2 = combobox2.get()\n",
        "    currency1 = response.json()[\"rates\"][c1]\n",
        "    currency2 = response.json()[\"rates\"][c2]\n",
        "    converted_entry.config(text=f\"{currency2 / currency1 * float(amount_entry.get())}\")"
      ]
    },
    {
      "cell_type": "markdown",
      "metadata": {
        "id": "WL8EPPSAtDz-"
      },
      "source": [
        "Create the main window"
      ]
    },
    {
      "cell_type": "code",
      "execution_count": null,
      "metadata": {
        "id": "lqQWXHkCtDz-"
      },
      "outputs": [],
      "source": [
        "root = tk.Tk()\n",
        "root.title(\"Money Exchanger\")"
      ]
    },
    {
      "cell_type": "markdown",
      "metadata": {
        "id": "PRpqWJLVtDz_"
      },
      "source": [
        "Set the window size and center it on the screen"
      ]
    },
    {
      "cell_type": "code",
      "execution_count": null,
      "metadata": {
        "id": "3NZcPX5atDz_"
      },
      "outputs": [],
      "source": [
        "window_width = 500\n",
        "window_height = 550\n",
        "screen_width = root.winfo_screenwidth()\n",
        "screen_height = root.winfo_screenheight()"
      ]
    },
    {
      "cell_type": "markdown",
      "metadata": {
        "id": "sEjA8G22tDz_"
      },
      "source": [
        "Set the background color of the window"
      ]
    },
    {
      "cell_type": "code",
      "execution_count": null,
      "metadata": {
        "id": "gw2sKxAmtD0A"
      },
      "outputs": [],
      "source": [
        "root.configure(bg=\"#3498DB\")"
      ]
    },
    {
      "cell_type": "markdown",
      "metadata": {
        "id": "7ESa05XZtD0A"
      },
      "source": [
        "Create a label for the heading"
      ]
    },
    {
      "cell_type": "code",
      "execution_count": null,
      "metadata": {
        "id": "s31DaW77tD0A"
      },
      "outputs": [],
      "source": [
        "heading_label = tk.Label(root, text=\"CURRENCY CONVERTER\", font=(\"Arial\", 24, \"bold\"), fg=\"#FFFFFF\", bg=\"#3498DB\",\n",
        "                         pady=20)\n",
        "heading_label.pack()"
      ]
    },
    {
      "cell_type": "markdown",
      "metadata": {
        "id": "uFKd8NUKtD0B"
      },
      "source": [
        "Create a label for the currency selection"
      ]
    },
    {
      "cell_type": "code",
      "execution_count": null,
      "metadata": {
        "id": "WKDGb877tD0B"
      },
      "outputs": [],
      "source": [
        "label = tk.Label(root, text=\"Select Currency\", font=(\"Arial\", 16), fg=\"#FFFFFF\", bg=\"#3498DB\", padx=10, pady=10)\n",
        "label.pack()"
      ]
    },
    {
      "cell_type": "markdown",
      "metadata": {
        "id": "UHlLz7pMtD0C"
      },
      "source": [
        "Create a Combobox"
      ]
    },
    {
      "cell_type": "code",
      "execution_count": null,
      "metadata": {
        "id": "S56hSu-ntD0C"
      },
      "outputs": [],
      "source": [
        "currencies = [\"USD\", \"EUR\", \"GBP\", \"JPY\", \"CAD\", \"AUD\", \"PKR\"]\n",
        "variable = tk.StringVar(root)\n",
        "variable.set(currencies[1])  # default value\n",
        "style = ttk.Style()\n",
        "style.configure('my.TCombobox', font=('Arial', 14), foreground='#FFFFFF', background='#2980B9',\n",
        "                fieldbackground='#FFFFFF')\n",
        "combobox1 = ttk.Combobox(root, textvariable=variable, values=currencies, style='my.TCombobox')\n",
        "combobox1.pack(pady=10)"
      ]
    },
    {
      "cell_type": "markdown",
      "metadata": {
        "id": "OgNQPFRGtD0C"
      },
      "source": [
        "Create a label for the amount input"
      ]
    },
    {
      "cell_type": "code",
      "execution_count": null,
      "metadata": {
        "id": "gtwBKLxWtD0D"
      },
      "outputs": [],
      "source": [
        "amount_label = tk.Label(root, text=\"Enter Amount\", font=(\"Arial\", 16), fg=\"#FFFFFF\", bg=\"#3498DB\", padx=10, pady=10)\n",
        "amount_label.pack()"
      ]
    },
    {
      "cell_type": "markdown",
      "metadata": {
        "id": "IAWC_RKttD0D"
      },
      "source": [
        "Create an Entry box for the amount input"
      ]
    },
    {
      "cell_type": "code",
      "execution_count": null,
      "metadata": {
        "id": "0Wd7KwT_tD0D"
      },
      "outputs": [],
      "source": [
        "amount_entry = tk.Entry(root, font=(\"Arial\", 14), bd=5, highlightthickness=1, highlightcolor=\"#FFFFFF\")\n",
        "amount_entry.pack()"
      ]
    },
    {
      "cell_type": "markdown",
      "metadata": {
        "id": "8FzWx1lftD0E"
      },
      "source": [
        "Create a button"
      ]
    },
    {
      "cell_type": "code",
      "execution_count": null,
      "metadata": {
        "id": "ShERhA4stD0E"
      },
      "outputs": [],
      "source": [
        "button = tk.Button(root, text=\"Convert\", font=(\"Arial\", 16), fg=\"#FFFFFF\", bg=\"#2980B9\", bd=5, padx=20, pady=5,\n",
        "                   command=convert)\n",
        "button.pack(pady=20)"
      ]
    },
    {
      "cell_type": "markdown",
      "metadata": {
        "id": "WUvPZ4potD0E"
      },
      "source": [
        "Create a label for the converted amount"
      ]
    },
    {
      "cell_type": "code",
      "execution_count": null,
      "metadata": {
        "id": "4wHwFgFftD0F"
      },
      "outputs": [],
      "source": [
        "converted_label = tk.Label(root, text=\"Converted Currency\", font=(\"Arial\", 16), fg=\"#FFFFFF\", bg=\"#3498DB\", padx=10,\n",
        "                           pady=10)\n",
        "converted_label.pack()"
      ]
    },
    {
      "cell_type": "markdown",
      "metadata": {
        "id": "al35J5N4tD0F"
      },
      "source": [
        "Create a Combobox"
      ]
    },
    {
      "cell_type": "code",
      "execution_count": null,
      "metadata": {
        "id": "cQ7ai-LvtD0F"
      },
      "outputs": [],
      "source": [
        "currencies = [\"USD\", \"EUR\", \"GBP\", \"JPY\", \"CAD\", \"AUD\", \"PKR\"]\n",
        "variable = tk.StringVar(root)\n",
        "variable.set(currencies[0])  # default value\n",
        "style = ttk.Style()\n",
        "style.configure('my.TCombobox', font=('Arial', 14), foreground='#FFFFFF', background='#2980B')"
      ]
    }
  ],
  "metadata": {
    "kernelspec": {
      "display_name": "Python 3",
      "language": "python",
      "name": "python3"
    },
    "language_info": {
      "codemirror_mode": {
        "name": "ipython",
        "version": 3
      },
      "file_extension": ".py",
      "mimetype": "text/x-python",
      "name": "python",
      "nbconvert_exporter": "python",
      "pygments_lexer": "ipython3",
      "version": "3.6.4"
    },
    "colab": {
      "provenance": []
    }
  },
  "nbformat": 4,
  "nbformat_minor": 0
}